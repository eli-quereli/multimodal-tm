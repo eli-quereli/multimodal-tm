{
 "cells": [
  {
   "cell_type": "markdown",
   "id": "151887f2-6090-4838-9d54-1216c636db5b",
   "metadata": {},
   "source": [
    "# BERTopic: Multimodal (Texts + Images)"
   ]
  },
  {
   "cell_type": "code",
   "execution_count": 1,
   "id": "db74b294-00b8-4680-8abd-35cd795f8495",
   "metadata": {},
   "outputs": [],
   "source": [
    "import sys\n",
    "sys.path.append('../../../')\n",
    "import time\n",
    "import pandas as pd\n",
    "\n",
    "from src.helpers.postgres_helpers import execute_sql_select"
   ]
  },
  {
   "cell_type": "markdown",
   "id": "ab227b99-4bb0-483e-8ffd-d63bd40edb3e",
   "metadata": {},
   "source": [
    "## 1. Load data"
   ]
  },
  {
   "cell_type": "code",
   "execution_count": 2,
   "id": "5c883395-3b4c-46d9-bda0-3f00addae2ce",
   "metadata": {},
   "outputs": [
    {
     "name": "stdout",
     "output_type": "stream",
     "text": [
      "Column names:  ['index', 'channel_name', 'channel_id', 'message_id', 'text', 'cleaned_text', 'msg_date', 'media_id', 'msg_type', 'img_id', 'file_path', 'dhash', 'phash']\n",
      "Connection to DB closed\n"
     ]
    }
   ],
   "source": [
    "table_name = \"tg_oct_topic_modeling\"\n",
    "database = \"telegram\"\n",
    "\n",
    "query = f\"\"\"SELECT * FROM {table_name}\"\"\"\n",
    "\n",
    "data = execute_sql_select(command=query, database=database, return_result_as_df=True)\n",
    "df = data.copy()"
   ]
  },
  {
   "cell_type": "markdown",
   "id": "90bdcfcc-f4dd-4663-80a9-9853366892c5",
   "metadata": {},
   "source": [
    "## 2. Deduplicate by cleaned-text + dhash (base corpus)"
   ]
  },
  {
   "cell_type": "code",
   "execution_count": 4,
   "id": "4988fe89-522f-4ab3-a0eb-21da1d200185",
   "metadata": {},
   "outputs": [
    {
     "data": {
      "text/plain": [
       "40110"
      ]
     },
     "execution_count": 4,
     "metadata": {},
     "output_type": "execute_result"
    }
   ],
   "source": [
    "#df = df.drop_duplicates('cleaned_text').drop_duplicates('dhash')\n",
    "\n",
    "df = df.dropna(subset=['cleaned_text', 'dhash'])\n",
    "len(df)"
   ]
  },
  {
   "cell_type": "markdown",
   "id": "f505e149-8d07-4044-9d43-24a798b2bb59",
   "metadata": {},
   "source": [
    "## Select docs and images"
   ]
  },
  {
   "cell_type": "code",
   "execution_count": 5,
   "id": "e6712113-8cfa-49f3-8cef-ceeb3d026cca",
   "metadata": {},
   "outputs": [],
   "source": [
    "docs = list(df.cleaned_text.values)\n",
    "images = list(df.file_path.values)"
   ]
  },
  {
   "cell_type": "markdown",
   "id": "7db6b5e4-032e-48d0-9308-1ed0ec29f6e0",
   "metadata": {},
   "source": [
    "## Initialize models"
   ]
  },
  {
   "cell_type": "code",
   "execution_count": 7,
   "id": "cff02753-152a-48f7-a62f-228a3ef2ec37",
   "metadata": {},
   "outputs": [
    {
     "name": "stderr",
     "output_type": "stream",
     "text": [
      "Could not find image processor class in the image processor config or the model config. Loading based on pattern matching with the model's feature extractor configuration.\n"
     ]
    }
   ],
   "source": [
    "from bertopic import BERTopic\n",
    "from bertopic.representation import VisualRepresentation\n",
    "#from sentence_transformers import SentenceTransformer\n",
    "from bertopic.backend import MultiModalBackend\n",
    "from umap import UMAP\n",
    "\n",
    "\n",
    "# Image embedding model\n",
    "embedding_model = MultiModalBackend('clip-ViT-B-32', batch_size=32)\n",
    "\n",
    "# Image to text representation model\n",
    "image_to_text_model = \"nlpconnect/vit-gpt2-image-captioning\"\n",
    "\n",
    "representation_model = {\n",
    "    \"Visual_Aspect\": VisualRepresentation(image_to_text_model=image_to_text_model)\n",
    "}"
   ]
  },
  {
   "cell_type": "markdown",
   "id": "55d19a06-7068-4661-a5d3-419ce86abc29",
   "metadata": {},
   "source": [
    "## 3. Train models with min_topic_sizes 10, 20, 50"
   ]
  },
  {
   "cell_type": "code",
   "execution_count": 8,
   "id": "2b660470-e63a-4ebc-8380-dfeb67ea3e36",
   "metadata": {},
   "outputs": [
    {
     "name": "stderr",
     "output_type": "stream",
     "text": [
      "Token indices sequence length is longer than the specified maximum sequence length for this model (103 > 77). Running this sequence through the model will result in indexing errors\n"
     ]
    },
    {
     "name": "stdout",
     "output_type": "stream",
     "text": [
      "Generating topics with min_topic_size = 10.\n"
     ]
    },
    {
     "name": "stderr",
     "output_type": "stream",
     "text": [
      "huggingface/tokenizers: The current process just got forked, after parallelism has already been used. Disabling parallelism to avoid deadlocks...\n",
      "To disable this warning, you can either:\n",
      "\t- Avoid using `tokenizers` before the fork if possible\n",
      "\t- Explicitly set the environment variable TOKENIZERS_PARALLELISM=(true | false)\n",
      "huggingface/tokenizers: The current process just got forked, after parallelism has already been used. Disabling parallelism to avoid deadlocks...\n",
      "To disable this warning, you can either:\n",
      "\t- Avoid using `tokenizers` before the fork if possible\n",
      "\t- Explicitly set the environment variable TOKENIZERS_PARALLELISM=(true | false)\n",
      "huggingface/tokenizers: The current process just got forked, after parallelism has already been used. Disabling parallelism to avoid deadlocks...\n",
      "To disable this warning, you can either:\n",
      "\t- Avoid using `tokenizers` before the fork if possible\n",
      "\t- Explicitly set the environment variable TOKENIZERS_PARALLELISM=(true | false)\n",
      "huggingface/tokenizers: The current process just got forked, after parallelism has already been used. Disabling parallelism to avoid deadlocks...\n",
      "To disable this warning, you can either:\n",
      "\t- Avoid using `tokenizers` before the fork if possible\n",
      "\t- Explicitly set the environment variable TOKENIZERS_PARALLELISM=(true | false)\n",
      "huggingface/tokenizers: The current process just got forked, after parallelism has already been used. Disabling parallelism to avoid deadlocks...\n",
      "To disable this warning, you can either:\n",
      "\t- Avoid using `tokenizers` before the fork if possible\n",
      "\t- Explicitly set the environment variable TOKENIZERS_PARALLELISM=(true | false)\n",
      "100%|██████████| 483/483 [01:06<00:00,  7.30it/s]\n"
     ]
    },
    {
     "name": "stdout",
     "output_type": "stream",
     "text": [
      "Time elapsed:  00:16:05\n",
      "483 topics found.\n",
      "Time elapsed:  00:16:05\n",
      "Generating topics with min_topic_size = 20.\n"
     ]
    },
    {
     "name": "stderr",
     "output_type": "stream",
     "text": [
      "huggingface/tokenizers: The current process just got forked, after parallelism has already been used. Disabling parallelism to avoid deadlocks...\n",
      "To disable this warning, you can either:\n",
      "\t- Avoid using `tokenizers` before the fork if possible\n",
      "\t- Explicitly set the environment variable TOKENIZERS_PARALLELISM=(true | false)\n",
      "huggingface/tokenizers: The current process just got forked, after parallelism has already been used. Disabling parallelism to avoid deadlocks...\n",
      "To disable this warning, you can either:\n",
      "\t- Avoid using `tokenizers` before the fork if possible\n",
      "\t- Explicitly set the environment variable TOKENIZERS_PARALLELISM=(true | false)\n",
      "huggingface/tokenizers: The current process just got forked, after parallelism has already been used. Disabling parallelism to avoid deadlocks...\n",
      "To disable this warning, you can either:\n",
      "\t- Avoid using `tokenizers` before the fork if possible\n",
      "\t- Explicitly set the environment variable TOKENIZERS_PARALLELISM=(true | false)\n",
      "huggingface/tokenizers: The current process just got forked, after parallelism has already been used. Disabling parallelism to avoid deadlocks...\n",
      "To disable this warning, you can either:\n",
      "\t- Avoid using `tokenizers` before the fork if possible\n",
      "\t- Explicitly set the environment variable TOKENIZERS_PARALLELISM=(true | false)\n",
      "100%|██████████| 211/211 [00:33<00:00,  6.27it/s]\n"
     ]
    },
    {
     "name": "stdout",
     "output_type": "stream",
     "text": [
      "Time elapsed:  00:15:25\n",
      "211 topics found.\n",
      "Time elapsed:  00:15:25\n",
      "Generating topics with min_topic_size = 50.\n"
     ]
    },
    {
     "name": "stderr",
     "output_type": "stream",
     "text": [
      "huggingface/tokenizers: The current process just got forked, after parallelism has already been used. Disabling parallelism to avoid deadlocks...\n",
      "To disable this warning, you can either:\n",
      "\t- Avoid using `tokenizers` before the fork if possible\n",
      "\t- Explicitly set the environment variable TOKENIZERS_PARALLELISM=(true | false)\n",
      "huggingface/tokenizers: The current process just got forked, after parallelism has already been used. Disabling parallelism to avoid deadlocks...\n",
      "To disable this warning, you can either:\n",
      "\t- Avoid using `tokenizers` before the fork if possible\n",
      "\t- Explicitly set the environment variable TOKENIZERS_PARALLELISM=(true | false)\n",
      "huggingface/tokenizers: The current process just got forked, after parallelism has already been used. Disabling parallelism to avoid deadlocks...\n",
      "To disable this warning, you can either:\n",
      "\t- Avoid using `tokenizers` before the fork if possible\n",
      "\t- Explicitly set the environment variable TOKENIZERS_PARALLELISM=(true | false)\n",
      "huggingface/tokenizers: The current process just got forked, after parallelism has already been used. Disabling parallelism to avoid deadlocks...\n",
      "To disable this warning, you can either:\n",
      "\t- Avoid using `tokenizers` before the fork if possible\n",
      "\t- Explicitly set the environment variable TOKENIZERS_PARALLELISM=(true | false)\n",
      "100%|██████████| 85/85 [00:15<00:00,  5.50it/s]\n"
     ]
    },
    {
     "name": "stdout",
     "output_type": "stream",
     "text": [
      "Time elapsed:  00:15:36\n",
      "85 topics found.\n",
      "Time elapsed:  00:15:36\n"
     ]
    }
   ],
   "source": [
    "# Set seed in UMAP model for reproducibility\n",
    "umap_model = UMAP(\n",
    "    random_state=42\n",
    ")\n",
    "\n",
    "MIN_TOPIC_SIZES = [10, 20, 50]\n",
    "\n",
    "\n",
    "for VAL in MIN_TOPIC_SIZES: \n",
    "\n",
    "    # Train our model with images only\n",
    "    topic_model = BERTopic(\n",
    "        embedding_model=embedding_model, \n",
    "        representation_model=representation_model,\n",
    "        umap_model= umap_model,\n",
    "        min_topic_size = VAL\n",
    "    )\n",
    "\n",
    "    print(f\"Generating topics with min_topic_size = {str(VAL)}.\")\n",
    "\n",
    "    t0 = time.perf_counter()\n",
    "    \n",
    "    # Train model\n",
    "    topics, probs = topic_model.fit_transform(documents=docs, images=images)#, embeddings=doc_image_embeddings)\n",
    "    print(\"Time elapsed: \", time.strftime(\"%H:%M:%S\", time.gmtime((time.perf_counter() - t0))))\n",
    "\n",
    "    topic_info = topic_model.get_topic_info()\n",
    "    print(f\"{len(topic_info)} topics found.\")\n",
    "    print(\"Time elapsed: \", time.strftime(\"%H:%M:%S\", time.gmtime((time.perf_counter() - t0))))\n",
    "\n",
    "    # save model using safetensors\n",
    "    version = f\"v6_{str(VAL)}\"\n",
    "    model_name = f\"bertopic_multimodal_{version}\"\n",
    "    topic_model.save(f\"models/{model_name}\", serialization=\"safetensors\", save_ctfidf=True)\n",
    "\n",
    "    topic_info = topic_model.get_topic_info()\n",
    "    topic_info.to_csv(f\"bertopic_results/{model_name}_topic_info.csv\")\n",
    "\n",
    "    docs_topic_info = topic_model.get_document_info(images)\n",
    "    docs_topic_info.to_csv(f\"bertopic_results/{model_name}_docs_topic_info.csv\")"
   ]
  }
 ],
 "metadata": {
  "kernelspec": {
   "display_name": "Audiovisual DS",
   "language": "python",
   "name": "audiovisual_ds"
  },
  "language_info": {
   "codemirror_mode": {
    "name": "ipython",
    "version": 3
   },
   "file_extension": ".py",
   "mimetype": "text/x-python",
   "name": "python",
   "nbconvert_exporter": "python",
   "pygments_lexer": "ipython3",
   "version": "3.11.7"
  }
 },
 "nbformat": 4,
 "nbformat_minor": 5
}
