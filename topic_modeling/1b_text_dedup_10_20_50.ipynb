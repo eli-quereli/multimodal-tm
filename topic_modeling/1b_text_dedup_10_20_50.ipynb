{
 "cells": [
  {
   "cell_type": "markdown",
   "id": "151887f2-6090-4838-9d54-1216c636db5b",
   "metadata": {},
   "source": [
    "# BERTopic: Text only"
   ]
  },
  {
   "cell_type": "code",
   "execution_count": 1,
   "id": "db74b294-00b8-4680-8abd-35cd795f8495",
   "metadata": {},
   "outputs": [],
   "source": [
    "import sys\n",
    "sys.path.append('../../../')\n",
    "import time\n",
    "import pandas as pd\n",
    "\n",
    "from src.helpers.postgres_helpers import execute_sql_select"
   ]
  },
  {
   "cell_type": "markdown",
   "id": "ab227b99-4bb0-483e-8ffd-d63bd40edb3e",
   "metadata": {},
   "source": [
    "## 1. Load prepared data from DB"
   ]
  },
  {
   "cell_type": "code",
   "execution_count": 2,
   "id": "e1081cee-423c-4a5a-988a-84dbac1d74eb",
   "metadata": {
    "tags": []
   },
   "outputs": [
    {
     "name": "stdout",
     "output_type": "stream",
     "text": [
      "Column names:  ['index', 'channel_name', 'channel_id', 'message_id', 'text', 'cleaned_text', 'msg_date', 'media_id', 'msg_type', 'img_id', 'file_path', 'dhash', 'phash']\n",
      "Connection to DB closed\n"
     ]
    }
   ],
   "source": [
    "table_name = f\"tg_oct_topic_modeling\"\n",
    "database = \"telegram\"\n",
    "\n",
    "query = f\"\"\"SELECT * FROM {table_name}\"\"\"\n",
    "\n",
    "data = execute_sql_select(command=query, database=database, return_result_as_df=True)\n",
    "df = data.copy()"
   ]
  },
  {
   "cell_type": "code",
   "execution_count": 3,
   "id": "a669adb9-eacc-423d-ae08-6d2e7d42b8f1",
   "metadata": {},
   "outputs": [
    {
     "data": {
      "text/plain": [
       "40110"
      ]
     },
     "execution_count": 3,
     "metadata": {},
     "output_type": "execute_result"
    }
   ],
   "source": [
    "len(df)"
   ]
  },
  {
   "cell_type": "code",
   "execution_count": 4,
   "id": "46952a4a-89f2-4443-b5d4-106d91a271de",
   "metadata": {},
   "outputs": [
    {
     "data": {
      "text/plain": [
       "571"
      ]
     },
     "execution_count": 4,
     "metadata": {},
     "output_type": "execute_result"
    }
   ],
   "source": [
    "len(df.channel_name.unique())"
   ]
  },
  {
   "cell_type": "markdown",
   "id": "5e723c63-8c6a-4f3e-8894-2474f72ee398",
   "metadata": {},
   "source": [
    "## Drop duplicate texts"
   ]
  },
  {
   "cell_type": "code",
   "execution_count": 7,
   "id": "0b842c28-9b07-4d34-b5e3-88d7d6461d0c",
   "metadata": {},
   "outputs": [
    {
     "data": {
      "text/plain": [
       "36717"
      ]
     },
     "execution_count": 7,
     "metadata": {},
     "output_type": "execute_result"
    }
   ],
   "source": [
    "df = df.drop_duplicates('cleaned_text')\n",
    "len(df)"
   ]
  },
  {
   "cell_type": "code",
   "execution_count": 8,
   "id": "458e6371-3d78-4f88-adaa-93cca3e6c761",
   "metadata": {},
   "outputs": [
    {
     "name": "stdout",
     "output_type": "stream",
     "text": [
      "36717\n"
     ]
    }
   ],
   "source": [
    "# Select docs \n",
    "docs = list(df.cleaned_text.values)\n",
    "print(len(docs))"
   ]
  },
  {
   "cell_type": "markdown",
   "id": "87d8ea4d-bc85-44de-b8af-b50ad2982aef",
   "metadata": {},
   "source": [
    "## 3. Train model"
   ]
  },
  {
   "cell_type": "markdown",
   "id": "6aa39f2c-0f2e-498b-890b-5b0ea0ab67f2",
   "metadata": {},
   "source": [
    "### Deduplication by text, min_topic_sizes = 10,20,50"
   ]
  },
  {
   "cell_type": "code",
   "execution_count": 8,
   "id": "9afa83fd-6cdc-471d-ab5a-dfbe97a15931",
   "metadata": {},
   "outputs": [
    {
     "name": "stdout",
     "output_type": "stream",
     "text": [
      "Generating topics with min_topic_size = 10.\n"
     ]
    },
    {
     "name": "stderr",
     "output_type": "stream",
     "text": [
      "huggingface/tokenizers: The current process just got forked, after parallelism has already been used. Disabling parallelism to avoid deadlocks...\n",
      "To disable this warning, you can either:\n",
      "\t- Avoid using `tokenizers` before the fork if possible\n",
      "\t- Explicitly set the environment variable TOKENIZERS_PARALLELISM=(true | false)\n",
      "huggingface/tokenizers: The current process just got forked, after parallelism has already been used. Disabling parallelism to avoid deadlocks...\n",
      "To disable this warning, you can either:\n",
      "\t- Avoid using `tokenizers` before the fork if possible\n",
      "\t- Explicitly set the environment variable TOKENIZERS_PARALLELISM=(true | false)\n",
      "huggingface/tokenizers: The current process just got forked, after parallelism has already been used. Disabling parallelism to avoid deadlocks...\n",
      "To disable this warning, you can either:\n",
      "\t- Avoid using `tokenizers` before the fork if possible\n",
      "\t- Explicitly set the environment variable TOKENIZERS_PARALLELISM=(true | false)\n",
      "huggingface/tokenizers: The current process just got forked, after parallelism has already been used. Disabling parallelism to avoid deadlocks...\n",
      "To disable this warning, you can either:\n",
      "\t- Avoid using `tokenizers` before the fork if possible\n",
      "\t- Explicitly set the environment variable TOKENIZERS_PARALLELISM=(true | false)\n",
      "huggingface/tokenizers: The current process just got forked, after parallelism has already been used. Disabling parallelism to avoid deadlocks...\n",
      "To disable this warning, you can either:\n",
      "\t- Avoid using `tokenizers` before the fork if possible\n",
      "\t- Explicitly set the environment variable TOKENIZERS_PARALLELISM=(true | false)\n"
     ]
    },
    {
     "name": "stdout",
     "output_type": "stream",
     "text": [
      "447 topics found.\n",
      "Time elapsed:  00:01:25\n",
      "Generating topics with min_topic_size = 20.\n",
      "168 topics found.\n",
      "Time elapsed:  00:01:01\n",
      "Generating topics with min_topic_size = 50.\n",
      "9 topics found.\n",
      "Time elapsed:  00:01:01\n"
     ]
    }
   ],
   "source": [
    "from bertopic import BERTopic\n",
    "from umap import UMAP\n",
    "\n",
    "# Set seed in UMAP model for reproducibility\n",
    "umap_model = UMAP(\n",
    "    random_state=42\n",
    ")\n",
    "\n",
    "MIN_TOPIC_SIZES = [10, 20, 50]\n",
    "\n",
    "for VAL in MIN_TOPIC_SIZES: \n",
    "    # Train our model with texts only\n",
    "    topic_model = BERTopic(\n",
    "        language='multilingual', \n",
    "        umap_model=umap_model, \n",
    "        min_topic_size = VAL\n",
    "    ) \n",
    "\n",
    "    print(f\"Generating topics with min_topic_size = {str(VAL)}.\")\n",
    "    \n",
    "    t0 = time.perf_counter()  \n",
    "    # Train model \n",
    "    topics, probs = topic_model.fit_transform(docs)\n",
    "    topic_info = topic_model.get_topic_info()\n",
    "    print(f\"{len(topic_info)} topics found.\")\n",
    "    print(\"Time elapsed: \", time.strftime(\"%H:%M:%S\", time.gmtime((time.perf_counter() - t0))))\n",
    "\n",
    "    # save model using safetensors\n",
    "    version = f\"v6_dedup_{str(VAL)}\"\n",
    "    model_name = f\"bertopic_text_{version}\"\n",
    "    topic_model.save(f\"models/{model_name}\", serialization=\"safetensors\", save_ctfidf=True)\n",
    "\n",
    "    topic_info = topic_model.get_topic_info()\n",
    "    topic_info.to_csv(f\"bertopic_results/{model_name}_topic_info.csv\")\n",
    "\n",
    "    docs_topic_info = topic_model.get_document_info(docs)\n",
    "    docs_topic_info.to_csv(f\"bertopic_results/{model_name}_docs_topic_info.csv\")"
   ]
  }
 ],
 "metadata": {
  "kernelspec": {
   "display_name": "Audiovisual DS",
   "language": "python",
   "name": "audiovisual_ds"
  },
  "language_info": {
   "codemirror_mode": {
    "name": "ipython",
    "version": 3
   },
   "file_extension": ".py",
   "mimetype": "text/x-python",
   "name": "python",
   "nbconvert_exporter": "python",
   "pygments_lexer": "ipython3",
   "version": "3.11.7"
  }
 },
 "nbformat": 4,
 "nbformat_minor": 5
}
