{
 "cells": [
  {
   "cell_type": "markdown",
   "id": "151887f2-6090-4838-9d54-1216c636db5b",
   "metadata": {},
   "source": [
    "# BERTopic: Images only"
   ]
  },
  {
   "cell_type": "code",
   "execution_count": 1,
   "id": "db74b294-00b8-4680-8abd-35cd795f8495",
   "metadata": {},
   "outputs": [],
   "source": [
    "import sys\n",
    "sys.path.append('../../../')\n",
    "import time\n",
    "import pandas as pd\n",
    "\n",
    "from src.helpers.postgres_helpers import execute_sql_select"
   ]
  },
  {
   "cell_type": "markdown",
   "id": "cc998573-47b3-4efe-9184-744d93bb9bae",
   "metadata": {},
   "source": [
    "## 1. Load prepared data from DB"
   ]
  },
  {
   "cell_type": "code",
   "execution_count": 2,
   "id": "821d03cc-14bf-4219-aa11-95c5968f3519",
   "metadata": {
    "tags": []
   },
   "outputs": [
    {
     "name": "stdout",
     "output_type": "stream",
     "text": [
      "Column names:  ['index', 'channel_name', 'channel_id', 'message_id', 'text', 'cleaned_text', 'msg_date', 'media_id', 'msg_type', 'img_id', 'file_path', 'dhash', 'phash']\n",
      "Connection to DB closed\n"
     ]
    }
   ],
   "source": [
    "table_name = \"tg_oct_topic_modeling\"\n",
    "database = \"telegram\"\n",
    "\n",
    "query = f\"\"\"SELECT * FROM {table_name}\"\"\"\n",
    "\n",
    "data = execute_sql_select(command=query, database=database, return_result_as_df=True)\n",
    "df = data.copy()"
   ]
  },
  {
   "cell_type": "code",
   "execution_count": 3,
   "id": "06a95977-db80-4d3c-8c60-859a0ca6029d",
   "metadata": {},
   "outputs": [
    {
     "data": {
      "text/plain": [
       "40110"
      ]
     },
     "execution_count": 3,
     "metadata": {},
     "output_type": "execute_result"
    }
   ],
   "source": [
    "len(df)"
   ]
  },
  {
   "cell_type": "markdown",
   "id": "9fad52f2-033d-42a9-bfea-20393e4a1d26",
   "metadata": {},
   "source": [
    "## 2. Duplicate by cleaned_text + dhash pairs (base corpus)"
   ]
  },
  {
   "cell_type": "code",
   "execution_count": 5,
   "id": "ee749529-8c8a-4535-b8e7-affa437dc01e",
   "metadata": {},
   "outputs": [
    {
     "data": {
      "text/plain": [
       "(40110,\n",
       " Index(['index', 'channel_name', 'channel_id', 'message_id', 'text',\n",
       "        'cleaned_text', 'msg_date', 'media_id', 'msg_type', 'img_id',\n",
       "        'file_path', 'dhash', 'phash'],\n",
       "       dtype='object'))"
      ]
     },
     "execution_count": 5,
     "metadata": {},
     "output_type": "execute_result"
    }
   ],
   "source": [
    "# Deduplicate images by dhash \n",
    "df = df.drop_duplicates(['cleaned_text', 'dhash'])\n",
    "len(df), df.columns"
   ]
  },
  {
   "cell_type": "markdown",
   "id": "ac0b37ca-a320-446d-837d-471e3fe43043",
   "metadata": {},
   "source": [
    "## Initialize embedding and representation models"
   ]
  },
  {
   "cell_type": "code",
   "execution_count": 7,
   "id": "8a592c7c-0827-416a-8234-32321b47682e",
   "metadata": {},
   "outputs": [
    {
     "name": "stderr",
     "output_type": "stream",
     "text": [
      "Could not find image processor class in the image processor config or the model config. Loading based on pattern matching with the model's feature extractor configuration.\n"
     ]
    }
   ],
   "source": [
    "from bertopic import BERTopic\n",
    "from bertopic.representation import VisualRepresentation\n",
    "#from sentence_transformers import SentenceTransformer\n",
    "from bertopic.backend import MultiModalBackend\n",
    "from umap import UMAP\n",
    "\n",
    "\n",
    "# Image embedding model\n",
    "embedding_model = MultiModalBackend('clip-ViT-B-32', batch_size=32)\n",
    "\n",
    "# Image to text representation model\n",
    "\n",
    "image_to_text_model = \"nlpconnect/vit-gpt2-image-captioning\"\n",
    "#image_to_text_model = \"Salesforce/blip-image-captioning-base\"\n",
    "# image_to_text_model = \"Salesforce/blip2-opt-2.7b\" # quite large!\n",
    "# image_to_text_model = \"llava-hf/llava-1.5-7b-hf\" # find out how to use with HF - maybe update transformers?\n",
    "\n",
    "representation_model = {\n",
    "    \"Visual_Aspect\": VisualRepresentation(image_to_text_model=image_to_text_model)\n",
    "}"
   ]
  },
  {
   "cell_type": "markdown",
   "id": "b1fba3a0-db69-4655-991f-075b19828b3e",
   "metadata": {},
   "source": [
    "## 3. Train model\n"
   ]
  },
  {
   "cell_type": "code",
   "execution_count": 12,
   "id": "5b8b7368-044e-4b85-b81c-d864bd986421",
   "metadata": {},
   "outputs": [
    {
     "name": "stdout",
     "output_type": "stream",
     "text": [
      "Generating topics with min_topic_size = 10.\n"
     ]
    },
    {
     "name": "stderr",
     "output_type": "stream",
     "text": [
      "huggingface/tokenizers: The current process just got forked, after parallelism has already been used. Disabling parallelism to avoid deadlocks...\n",
      "To disable this warning, you can either:\n",
      "\t- Avoid using `tokenizers` before the fork if possible\n",
      "\t- Explicitly set the environment variable TOKENIZERS_PARALLELISM=(true | false)\n",
      "huggingface/tokenizers: The current process just got forked, after parallelism has already been used. Disabling parallelism to avoid deadlocks...\n",
      "To disable this warning, you can either:\n",
      "\t- Avoid using `tokenizers` before the fork if possible\n",
      "\t- Explicitly set the environment variable TOKENIZERS_PARALLELISM=(true | false)\n",
      "huggingface/tokenizers: The current process just got forked, after parallelism has already been used. Disabling parallelism to avoid deadlocks...\n",
      "To disable this warning, you can either:\n",
      "\t- Avoid using `tokenizers` before the fork if possible\n",
      "\t- Explicitly set the environment variable TOKENIZERS_PARALLELISM=(true | false)\n",
      "huggingface/tokenizers: The current process just got forked, after parallelism has already been used. Disabling parallelism to avoid deadlocks...\n",
      "To disable this warning, you can either:\n",
      "\t- Avoid using `tokenizers` before the fork if possible\n",
      "\t- Explicitly set the environment variable TOKENIZERS_PARALLELISM=(true | false)\n",
      "huggingface/tokenizers: The current process just got forked, after parallelism has already been used. Disabling parallelism to avoid deadlocks...\n",
      "To disable this warning, you can either:\n",
      "\t- Avoid using `tokenizers` before the fork if possible\n",
      "\t- Explicitly set the environment variable TOKENIZERS_PARALLELISM=(true | false)\n",
      "  0%|          | 0/520 [00:00<?, ?it/s]We strongly recommend passing in an `attention_mask` since your input_ids may be padded. See https://huggingface.co/docs/transformers/troubleshooting#incorrect-output-when-padding-tokens-arent-masked.\n",
      "You may ignore this warning if your `pad_token_id` (50256) is identical to the `bos_token_id` (50256), `eos_token_id` (50256), or the `sep_token_id` (None), and your input is not padded.\n",
      "100%|██████████| 520/520 [20:12<00:00,  2.33s/it]\n",
      "100%|██████████| 520/520 [01:01<00:00,  8.43it/s]\n"
     ]
    },
    {
     "name": "stdout",
     "output_type": "stream",
     "text": [
      "Time elapsed:  00:35:27\n",
      "520 topics found.\n",
      "Time elapsed:  00:35:27\n",
      "Generating topics with min_topic_size = 20.\n"
     ]
    },
    {
     "name": "stderr",
     "output_type": "stream",
     "text": [
      "100%|██████████| 231/231 [09:14<00:00,  2.40s/it]\n",
      "100%|██████████| 231/231 [00:27<00:00,  8.49it/s]\n"
     ]
    },
    {
     "name": "stdout",
     "output_type": "stream",
     "text": [
      "Time elapsed:  00:23:15\n",
      "231 topics found.\n",
      "Time elapsed:  00:23:15\n",
      "Generating topics with min_topic_size = 50.\n"
     ]
    },
    {
     "name": "stderr",
     "output_type": "stream",
     "text": [
      "100%|██████████| 15/15 [00:38<00:00,  2.55s/it]\n",
      "100%|██████████| 15/15 [00:01<00:00,  8.00it/s]\n"
     ]
    },
    {
     "name": "stdout",
     "output_type": "stream",
     "text": [
      "Time elapsed:  00:14:38\n",
      "15 topics found.\n",
      "Time elapsed:  00:14:38\n"
     ]
    }
   ],
   "source": [
    "# Set seed in UMAP model for reproducibility\n",
    "umap_model = UMAP(\n",
    "    random_state=42\n",
    ")\n",
    "\n",
    "MIN_TOPIC_SIZES = [10, 20, 50]\n",
    "\n",
    "for VAL in MIN_TOPIC_SIZES: \n",
    "\n",
    "    # Train our model with images only\n",
    "    topic_model = BERTopic(\n",
    "        embedding_model=embedding_model, \n",
    "        representation_model=representation_model,\n",
    "        umap_model= umap_model,\n",
    "        min_topic_size = VAL\n",
    "    )\n",
    "\n",
    "    print(f\"Generating topics with min_topic_size = {str(VAL)}.\")\n",
    "\n",
    "    t0 = time.perf_counter()\n",
    "    # Train model \n",
    "    topics, probs = topic_model.fit_transform(documents=None, images=images)#, embeddings=stored_embeddings)\n",
    "    print(\"Time elapsed: \", time.strftime(\"%H:%M:%S\", time.gmtime((time.perf_counter() - t0))))\n",
    "\n",
    "    topic_info = topic_model.get_topic_info()\n",
    "    print(f\"{len(topic_info)} topics found.\")\n",
    "    print(\"Time elapsed: \", time.strftime(\"%H:%M:%S\", time.gmtime((time.perf_counter() - t0))))\n",
    "\n",
    "    # save model using safetensors\n",
    "    version = f\"v6_{str(VAL)}\"\n",
    "    model_name = f\"bertopic_img_{version}\"\n",
    "    topic_model.save(f\"models/{model_name}\", serialization=\"safetensors\", save_ctfidf=True)\n",
    "\n",
    "    topic_info = topic_model.get_topic_info()\n",
    "    topic_info.to_csv(f\"bertopic_results/{model_name}_topic_info.csv\")\n",
    "\n",
    "    docs_topic_info = topic_model.get_document_info(images)\n",
    "    docs_topic_info.to_csv(f\"bertopic_results/{model_name}_docs_topic_info.csv\")"
   ]
  }
 ],
 "metadata": {
  "kernelspec": {
   "display_name": "Audiovisual DS",
   "language": "python",
   "name": "audiovisual_ds"
  },
  "language_info": {
   "codemirror_mode": {
    "name": "ipython",
    "version": 3
   },
   "file_extension": ".py",
   "mimetype": "text/x-python",
   "name": "python",
   "nbconvert_exporter": "python",
   "pygments_lexer": "ipython3",
   "version": "3.11.7"
  }
 },
 "nbformat": 4,
 "nbformat_minor": 5
}
